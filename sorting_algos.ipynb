{
 "cells": [
  {
   "cell_type": "code",
   "execution_count": null,
   "metadata": {},
   "outputs": [],
   "source": []
  },
  {
   "cell_type": "markdown",
   "metadata": {},
   "source": [
    "## Selection Sort "
   ]
  },
  {
   "cell_type": "markdown",
   "metadata": {},
   "source": [
    "* Selection sort is a sorting algorithm that selects the smallest element from an unsorted list in each iteration and places that element at the \n",
    "  beginning of the unsorted list.\n",
    "\n"
   ]
  },
  {
   "cell_type": "markdown",
   "metadata": {},
   "source": []
  }
 ],
 "metadata": {
  "language_info": {
   "name": "python"
  },
  "orig_nbformat": 4
 },
 "nbformat": 4,
 "nbformat_minor": 2
}
