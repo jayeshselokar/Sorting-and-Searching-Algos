{
 "cells": [
  {
   "cell_type": "markdown",
   "metadata": {},
   "source": [
    "## Linear Search\n",
    "\n",
    "What is Linear Search?\n",
    "\n",
    "A linear search is the simplest method of searching a data set. Starting at the beginning of the data set, each item of data is examined until a match is made. Once the item is found, the search ends.\n",
    "\n",
    "It is a sequential searching algorithm where we start from one end and check every element of the list until the desired element is found."
   ]
  },
  {
   "cell_type": "code",
   "execution_count": 1,
   "metadata": {},
   "outputs": [],
   "source": [
    "A = [2, 7, 22, 14, 6, 11, 9, 41]"
   ]
  },
  {
   "cell_type": "code",
   "execution_count": 3,
   "metadata": {},
   "outputs": [],
   "source": [
    "def linearsearch(A, key):\n",
    "    \n",
    "    for i in range(len(A)):\n",
    "        if A[i] == key:\n",
    "            return i\n",
    "        \n",
    "    return \"element not found\""
   ]
  },
  {
   "cell_type": "code",
   "execution_count": 4,
   "metadata": {},
   "outputs": [
    {
     "data": {
      "text/plain": [
       "3"
      ]
     },
     "execution_count": 4,
     "metadata": {},
     "output_type": "execute_result"
    }
   ],
   "source": [
    "linearsearch(A, 14)"
   ]
  },
  {
   "cell_type": "markdown",
   "metadata": {},
   "source": [
    "## Binary Search "
   ]
  },
  {
   "cell_type": "markdown",
   "metadata": {},
   "source": [
    "Binary search is an efficient algorithm for finding an item from a sorted list of items. It works by repeatedly dividing in half the portion of the list that could contain the item, until you've narrowed down the possible locations to just one.\n",
    "\n",
    "Binary Search is a searching algorithm for finding an element's position in a sorted array.\n",
    "\n",
    "    It can only be applied on sorted array\n",
    "    In this approach, the element is always searched in the middle of a portion of an array.\n",
    "    Binary search can be implemented only on a sorted list of items. If the elements are not sorted already, we need to sort them first.\n",
    "\n"
   ]
  },
  {
   "cell_type": "markdown",
   "metadata": {},
   "source": [
    "* Iterative code"
   ]
  },
  {
   "cell_type": "code",
   "execution_count": 2,
   "metadata": {},
   "outputs": [],
   "source": [
    "def binary_search_iter(A, key):\n",
    "    low = 0\n",
    "    high = len(A)\n",
    "    \n",
    "    while low <= high:\n",
    "        \n",
    "        mid = (low + high) //2\n",
    "        \n",
    "        if key == A[mid]:\n",
    "            return mid\n",
    "        if key > A[mid]:\n",
    "            low = mid + 1\n",
    "        else:\n",
    "            high = mid - 1\n",
    "            \n",
    "    return \"element not found\"\n",
    "    "
   ]
  },
  {
   "cell_type": "code",
   "execution_count": 3,
   "metadata": {},
   "outputs": [
    {
     "data": {
      "text/plain": [
       "7"
      ]
     },
     "execution_count": 3,
     "metadata": {},
     "output_type": "execute_result"
    }
   ],
   "source": [
    "arr = [2,4, 5, 6, 8, 9, 11, 14, 15, 17, 19, 20]\n",
    "\n",
    "binary_search_iter(arr, 14)"
   ]
  },
  {
   "cell_type": "markdown",
   "metadata": {},
   "source": [
    "* Recursive Code"
   ]
  },
  {
   "cell_type": "code",
   "execution_count": 5,
   "metadata": {},
   "outputs": [],
   "source": [
    "def R_B_S(A, key,low, high):\n",
    "    #     low = 0\n",
    "#     high = len(A)\n",
    "    \n",
    "    while low <= high:\n",
    "        \n",
    "        mid = (low + high) //2\n",
    "        \n",
    "        if A[mid] == key:\n",
    "            return mid\n",
    "        \n",
    "        if A[mid] < key:\n",
    "            return R_B_S(A, key, mid + 1, high)\n",
    "\n",
    "        else:\n",
    "            return R_B_S(A, key, low,  mid - 1)\n",
    "        \n",
    "            \n",
    "    return \"element not found\""
   ]
  },
  {
   "cell_type": "code",
   "execution_count": 6,
   "metadata": {},
   "outputs": [
    {
     "data": {
      "text/plain": [
       "5"
      ]
     },
     "execution_count": 6,
     "metadata": {},
     "output_type": "execute_result"
    }
   ],
   "source": [
    "R_B_S(arr, 9, 0, 12)"
   ]
  },
  {
   "cell_type": "code",
   "execution_count": null,
   "metadata": {},
   "outputs": [],
   "source": []
  }
 ],
 "metadata": {
  "interpreter": {
   "hash": "83a8a37af132a2fa5bd73ffbd7034c1e5f9f9b0bef7ee17d2a911228df5d8f19"
  },
  "kernelspec": {
   "display_name": "Python 3.10.2 64-bit",
   "language": "python",
   "name": "python3"
  },
  "language_info": {
   "codemirror_mode": {
    "name": "ipython",
    "version": 3
   },
   "file_extension": ".py",
   "mimetype": "text/x-python",
   "name": "python",
   "nbconvert_exporter": "python",
   "pygments_lexer": "ipython3",
   "version": "3.10.2"
  },
  "orig_nbformat": 4
 },
 "nbformat": 4,
 "nbformat_minor": 2
}
